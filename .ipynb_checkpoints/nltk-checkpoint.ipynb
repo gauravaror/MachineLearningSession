{
 "cells": [
  {
   "cell_type": "markdown",
   "metadata": {},
   "source": [
    "# Create a dictionary from text sentences\n",
    "\n",
    "## Given/ Define list of sentences \"Machine learning workshop in University\", \"university is also hosting a symposium\", \"students get to learn a lot from symposium\""
   ]
  },
  {
   "cell_type": "code",
   "execution_count": null,
   "metadata": {},
   "outputs": [],
   "source": [
    "# Download package in nltk for word tokenization\n",
    "import nltk\n",
    "nltk.download('punkt')\n"
   ]
  },
  {
   "cell_type": "code",
   "execution_count": 16,
   "metadata": {},
   "outputs": [
    {
     "name": "stdout",
     "output_type": "stream",
     "text": [
      "Texts :  ['Machine learning workshop in University', 'university is also hosting a symposium', 'students get to learn a lot from symposium']\n",
      "Tokens :  [['machine', 'learning', 'workshop', 'in', 'university'], ['university', 'is', 'also', 'hosting', 'a', 'symposium'], ['students', 'get', 'to', 'learn', 'a', 'lot', 'from', 'symposium']]\n",
      "Dictionary {'is': 1, 'hosting': 1, 'to': 1, 'get': 1, 'workshop': 1, 'lot': 1, 'symposium': 2, 'learn': 1, 'from': 1, 'university': 2, 'machine': 1, 'in': 1, 'a': 2, 'learning': 1, 'also': 1, 'students': 1}\n"
     ]
    }
   ],
   "source": [
    "from nltk import sent_tokenize, word_tokenize, pos_tag\n",
    "texts = [\"Machine learning workshop in University\", \"university is also hosting a symposium\", \"students get to learn a lot from symposium\"]\n",
    "\n",
    "print(\"Texts : \", texts)\n",
    "tokens = [ word_tokenize(text.lower()) for text in texts]\n",
    "print(\"Tokens : \" , tokens)\n",
    "\n",
    "dictionary = {}\n",
    "\n",
    "for token_list in tokens: \n",
    "    for token in token_list:\n",
    "        if token in dictionary:\n",
    "            dictionary[token] += 1\n",
    "        else:\n",
    "            dictionary[token] = 1\n",
    "print(\"Dictionary\", dictionary)\n"
   ]
  },
  {
   "cell_type": "markdown",
   "metadata": {},
   "source": [
    "## Let's filter out all the terms with frequency less than 1"
   ]
  },
  {
   "cell_type": "code",
   "execution_count": null,
   "metadata": {},
   "outputs": [],
   "source": []
  }
 ],
 "metadata": {
  "kernelspec": {
   "display_name": "Python 3",
   "language": "python",
   "name": "python3"
  },
  "language_info": {
   "codemirror_mode": {
    "name": "ipython",
    "version": 3
   },
   "file_extension": ".py",
   "mimetype": "text/x-python",
   "name": "python",
   "nbconvert_exporter": "python",
   "pygments_lexer": "ipython3",
   "version": "3.5.4"
  }
 },
 "nbformat": 4,
 "nbformat_minor": 2
}
