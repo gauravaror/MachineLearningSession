{
 "cells": [
  {
   "cell_type": "markdown",
   "metadata": {},
   "source": [
    "# SPAM/HAM detection\n",
    "\n",
    "We would be using bouquet of algorithms to train Spam detector and compare there accuracy:\n",
    "\n",
    "## Algorithm used.\n",
    "\n",
    "* Naive Bayes Algorithms - 2\n",
    "* SVM based Classification Algorithm.\n",
    "\n",
    "## Steps of our SPAM/HAM algorithm\n",
    "\n",
    "1.  Import relevant packages\n",
    "2.  Import the test and training data\n",
    "3.  Vectorize or featurize our test and training data.\n",
    "4.  Running classification algorithms on our vectorized data\n",
    "5.  Comparing the results using plots\n",
    "\n",
    "Let's start by importing packages"
   ]
  },
  {
   "cell_type": "code",
   "execution_count": null,
   "metadata": {},
   "outputs": [],
   "source": [
    "from __future__ import print_function\n",
    "\n",
    "import logging\n",
    "import numpy as np\n",
    "import sys\n",
    "from time import time\n",
    "import matplotlib.pyplot as plt\n",
    "\n",
    "from sklearn.datasets.base import load_files\n",
    "from sklearn.feature_extraction.text import TfidfVectorizer\n",
    "from sklearn.svm import LinearSVC\n",
    "\n",
    "from sklearn.naive_bayes import BernoulliNB, MultinomialNB\n",
    "from sklearn.utils.extmath import density\n",
    "from sklearn import metrics"
   ]
  },
  {
   "cell_type": "markdown",
   "metadata": {},
   "source": [
    "# Categories\n",
    "\n",
    "This is two class classification problem:\n",
    "\n",
    "1. SPAM\n",
    "2. HAM\n",
    "\n",
    "Let's define the categories and load our training dataset:\n",
    "\n",
    "We have divided all our emails in two sets:\n",
    "1. Train :  Files we would be using to train our Classification algorithm\n",
    "2. Test  : Files we would be using to test accuracy of our models.\n",
    "\n",
    "## Collection Statistics\n",
    "\n",
    "Train Collection:\n",
    "Number of spam documents: 4496\n",
    "Number of HAM documents:  12045\n",
    "\n",
    "\n",
    "Test Collections:\n",
    "Number of spam documents: 4500\n",
    "Number of HAM documents:  1500\n",
    "\n",
    "\n",
    "## Directory structure of our test/train collection\n",
    "\n",
    "Our collection is organized as follows on directory level:\n",
    "\n",
    "~/Documents/IRLAB/MachineLearningSession/assets » ls spamham/                                       gaurav@Gaurav\n",
    "test   train\n",
    "\n",
    "~/Documents/IRLAB/MachineLearningSession/assets » ls spamham/test                                   gaurav@Gaurav\n",
    "ham  spam\n",
    "\n",
    "~/Documents/IRLAB/MachineLearningSession/assets » ls spamham/test/ham |wc -l                        gaurav@Gaurav\n",
    "    1500\n",
    "\n",
    "~/Documents/IRLAB/MachineLearningSession/assets » ls spamham/test/spam |wc -l                       gaurav@Gaurav\n",
    "    4500\n",
    "\n",
    "## Sample of a spam document\n",
    "\n",
    "Subject: good day dear sir ,\n",
    "good day dear customer , ! : )\n",
    "very cheap pharmacy for lowest price !\n",
    "meridia 75 $\n",
    "prozac 70 $\n",
    "viagra 64 $\n",
    "xenical 70 $\n",
    "celebrex 72 $\n",
    "glucophage 60 $\n",
    "prozac 70 $\n",
    "glucophage 60 $\n",
    "prozac 70 $\n",
    "prozac 70 $\n",
    "visit our shop right now and get 90 % dicsount\n",
    "just wanna say you , that i am really wants to help up your health with generic - drugs shop = )\n",
    "thank you for cooperation .\n",
    "spamham/test/spam/3979.2005-01-21.GP.spam.txt (END)\n",
    "\n",
    "## Sample of HAM Document\n",
    "Subject: caiso notice - market certifications for november , 2000 through\n",
    "may , 2001\n",
    "iso market participants\n",
    "sc settlement contacts\n",
    "attached are the summaries of market certifications for november and\n",
    "december , 2000 and for january - may , 2001 . the iso will mail individual\n",
    "certifications to creditors later this week .\n",
    ">\n",
    "client relations communications\n",
    "crcommunications @ caiso . com\n",
    "spamham/test/ham/2571.2001-08-29.williams.ham.txt (END)\n"
   ]
  },
  {
   "cell_type": "code",
   "execution_count": null,
   "metadata": {},
   "outputs": [],
   "source": [
    "categories = [\n",
    "    'spam',\n",
    "    'ham',\n",
    "]\n",
    "    \n",
    "    \n",
    "data_train = load_files('assets/spamham/train/')\n",
    "data_test = load_files('assets/spamham/test/')\n"
   ]
  },
  {
   "cell_type": "markdown",
   "metadata": {},
   "source": [
    "## Gauge size of data"
   ]
  },
  {
   "cell_type": "code",
   "execution_count": 4,
   "metadata": {},
   "outputs": [
    {
     "name": "stdout",
     "output_type": "stream",
     "text": [
      "16541 documents - 28.911MB (training set)\n",
      "6000 documents - 6.839MB (test set)\n",
      "2 categories\n",
      "['ham', 'spam']\n",
      "\n"
     ]
    }
   ],
   "source": [
    "\n",
    "def size_mb(docs):\n",
    "    return sum(len(s) for s in docs) / 1e6\n",
    "\n",
    "data_train_size_mb = size_mb(data_train.data)\n",
    "data_test_size_mb = size_mb(data_test.data)\n",
    "\n",
    "print(\"%d documents - %0.3fMB (training set)\" % (\n",
    "    len(data_train.data), data_train_size_mb))\n",
    "print(\"%d documents - %0.3fMB (test set)\" % (\n",
    "    len(data_test.data), data_test_size_mb))\n",
    "print(\"%d categories\" % len(categories))\n",
    "target_names = data_train.target_names\n",
    "print(target_names)\n",
    "\n",
    "print()\n",
    "\n"
   ]
  },
  {
   "cell_type": "code",
   "execution_count": 11,
   "metadata": {},
   "outputs": [
    {
     "name": "stdout",
     "output_type": "stream",
     "text": [
      "done in 5.513866s at 5.243MB/s\n",
      "n_samples: 16541, n_features: 97127\n",
      "\n",
      "Extracting features from the test data using the same vectorizer\n",
      "done in 1.267295s at 5.397MB/s\n",
      "n_samples: 6000, n_features: 97127\n",
      "\n",
      "['00' '000' '0000' ... 'zzw' 'zzxtfeerekvwkug' 'zzzz']\n"
     ]
    }
   ],
   "source": [
    "# split a training set and a test set\n",
    "t0 = time()\n",
    "\n",
    "y_train, y_test = data_train.target, data_test.target\n",
    "\n",
    "vectorizer = TfidfVectorizer(sublinear_tf=True, max_df=0.5,\n",
    "                                 stop_words='english', decode_error='ignore')\n",
    "X_train = vectorizer.fit_transform(data_train.data)\n",
    "\n",
    "duration = time() - t0\n",
    "print(\"done in %fs at %0.3fMB/s\" % (duration, data_train_size_mb / duration))\n",
    "print(\"n_samples: %d, n_features: %d\" % X_train.shape)\n",
    "print()\n",
    "\n",
    "print(\"Extracting features from the test data using the same vectorizer\")\n",
    "t0 = time()\n",
    "X_test = vectorizer.transform(data_test.data)\n",
    "duration = time() - t0\n",
    "print(\"done in %fs at %0.3fMB/s\" % (duration, data_test_size_mb / duration))\n",
    "print(\"n_samples: %d, n_features: %d\" % X_test.shape)\n",
    "print()"
   ]
  },
  {
   "cell_type": "markdown",
   "metadata": {},
   "source": [
    "## Define benchmark function\n",
    "\n",
    "We can pass in any algorithm from scikit learn and we would get the result on our data set for those algorithms\n",
    "\n"
   ]
  },
  {
   "cell_type": "code",
   "execution_count": 12,
   "metadata": {},
   "outputs": [],
   "source": [
    "def trim(s):\n",
    "    \"\"\"Trim string to fit on terminal (assuming 80-column display)\"\"\"\n",
    "    return s if len(s) <= 80 else s[:77] + \"...\"\n",
    "\n",
    "# #############################################################################\n",
    "# Benchmark classifiers\n",
    "def benchmark(clf):\n",
    "    print('_' * 80)\n",
    "    print(\"Training: \")\n",
    "    print(clf)\n",
    "    t0 = time()\n",
    "    clf.fit(X_train, y_train)\n",
    "    train_time = time() - t0\n",
    "    print(\"train time: %0.3fs\" % train_time)\n",
    "\n",
    "    t0 = time()\n",
    "    pred = clf.predict(X_test)\n",
    "    test_time = time() - t0\n",
    "    print(\"test time:  %0.3fs\" % test_time)\n",
    "\n",
    "    score = metrics.accuracy_score(y_test, pred)\n",
    "    print(\"accuracy:   %0.3f\" % score)\n",
    "\n",
    "    if hasattr(clf, 'coef_'):\n",
    "        print(\"dimensionality: %d\" % clf.coef_.shape[1])\n",
    "        print(\"density: %f\" % density(clf.coef_))\n",
    "        print()\n",
    "\n",
    "    print(\"classification report:\")\n",
    "    print(metrics.classification_report(y_test, pred,\n",
    "                                        target_names=target_names))\n",
    "    print(\"confusion matrix:\")\n",
    "    print(metrics.confusion_matrix(y_test, pred))\n",
    "\n",
    "    print()\n",
    "    clf_descr = str(clf).split('(')[0]\n",
    "    return clf_descr, score, train_time, test_time\n",
    "\n"
   ]
  },
  {
   "cell_type": "markdown",
   "metadata": {},
   "source": [
    "## Run our classifier on Naive Bayes and Linear SVC\n",
    "\n",
    "We will be running and comparing our score on precision, recall, f1 scores."
   ]
  },
  {
   "cell_type": "code",
   "execution_count": null,
   "metadata": {},
   "outputs": [],
   "source": [
    "results = []\n",
    "\n",
    "print(\"Naive Bayes\")\n",
    "results.append(benchmark(MultinomialNB(alpha=.01)))\n",
    "results.append(benchmark(BernoulliNB(alpha=.01)))\n",
    "results.append(benchmark(LinearSVC(penalty=\"l2\", dual=True, tol=1e-3)))\n",
    "\n"
   ]
  },
  {
   "cell_type": "markdown",
   "metadata": {},
   "source": [
    "## Plot the train time, test time and score of all the three algorithm for spam detection\n"
   ]
  },
  {
   "cell_type": "code",
   "execution_count": 25,
   "metadata": {},
   "outputs": [
    {
     "data": {
      "image/png": "[encoded data removed]",
      "text/plain": [
       "<matplotlib.figure.Figure at 0x1a092e02e8>"
      ]
     },
     "metadata": {},
     "output_type": "display_data"
    }
   ],
   "source": [
    "# make some plots\n",
    "\n",
    "indices = np.arange(len(results))\n",
    "\n",
    "results = [[x[i] for x in results] for i in range(4)]\n",
    "\n",
    "clf_names, score, training_time, test_time = results\n",
    "training_time = np.array(training_time) / np.max(training_time)\n",
    "test_time = np.array(test_time) / np.max(test_time)\n",
    "\n",
    "plt.figure(figsize=(12, 8))\n",
    "plt.title(\"Score\")\n",
    "plt.barh(indices, score, .2, label=\"score\", color='navy')\n",
    "plt.barh(indices + .3, training_time, .2, label=\"training time\",\n",
    "         color='c')\n",
    "plt.barh(indices + .6, test_time, .2, label=\"test time\", color='darkorange')\n",
    "plt.yticks(())\n",
    "plt.legend(loc='best')\n",
    "plt.subplots_adjust(left=.25)\n",
    "plt.subplots_adjust(top=.95)\n",
    "plt.subplots_adjust(bottom=.05)\n",
    "\n",
    "for i, c in zip(indices, clf_names):\n",
    "    plt.text(-.3, i, c)\n"
   ]
  }
 ],
 "metadata": {
  "kernelspec": {
   "display_name": "Python 3",
   "language": "python",
   "name": "python3"
  },
  "language_info": {
   "codemirror_mode": {
    "name": "ipython",
    "version": 3
   },
   "file_extension": ".py",
   "mimetype": "text/x-python",
   "name": "python",
   "nbconvert_exporter": "python",
   "pygments_lexer": "ipython3",
   "version": "3.5.4"
  }
 },
 "nbformat": 4,
 "nbformat_minor": 2
}
